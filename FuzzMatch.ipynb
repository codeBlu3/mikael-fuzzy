{
 "cells": [
  {
   "cell_type": "markdown",
   "metadata": {},
   "source": [
    "#  Imports and Funcs"
   ]
  },
  {
   "cell_type": "markdown",
   "metadata": {},
   "source": [
    "##  Imports"
   ]
  },
  {
   "cell_type": "code",
   "execution_count": 3,
   "metadata": {},
   "outputs": [],
   "source": [
    "import os"
   ]
  },
  {
   "cell_type": "code",
   "execution_count": 4,
   "metadata": {},
   "outputs": [],
   "source": [
    "import re"
   ]
  },
  {
   "cell_type": "code",
   "execution_count": 5,
   "metadata": {
    "ExecuteTime": {
     "end_time": "2021-03-03T11:18:35.510998Z",
     "start_time": "2021-03-03T11:18:30.865545Z"
    }
   },
   "outputs": [],
   "source": [
    "import pandas as pd\n",
    "import numpy as np\n",
    "from pandas.api.types import is_string_dtype, is_numeric_dtype"
   ]
  },
  {
   "cell_type": "code",
   "execution_count": 6,
   "metadata": {},
   "outputs": [],
   "source": [
    "pd.set_option('display.max_colwidth', None)"
   ]
  },
  {
   "cell_type": "code",
   "execution_count": 7,
   "metadata": {
    "ExecuteTime": {
     "end_time": "2021-03-03T11:18:35.515035Z",
     "start_time": "2021-03-03T11:18:35.512454Z"
    }
   },
   "outputs": [],
   "source": [
    "import pickle"
   ]
  },
  {
   "cell_type": "code",
   "execution_count": 8,
   "metadata": {},
   "outputs": [],
   "source": [
    "import time"
   ]
  },
  {
   "cell_type": "code",
   "execution_count": 9,
   "metadata": {},
   "outputs": [],
   "source": [
    "from sklearn.feature_extraction.text import TfidfVectorizer"
   ]
  },
  {
   "cell_type": "code",
   "execution_count": 10,
   "metadata": {},
   "outputs": [],
   "source": [
    "from sklearn.neighbors import NearestNeighbors"
   ]
  },
  {
   "cell_type": "code",
   "execution_count": 11,
   "metadata": {},
   "outputs": [],
   "source": [
    "from ftfy import fix_text"
   ]
  },
  {
   "cell_type": "code",
   "execution_count": 130,
   "metadata": {},
   "outputs": [],
   "source": [
    "import networkx as nx"
   ]
  },
  {
   "cell_type": "markdown",
   "metadata": {},
   "source": [
    "## Functions"
   ]
  },
  {
   "cell_type": "code",
   "execution_count": 12,
   "metadata": {
    "ExecuteTime": {
     "end_time": "2021-03-03T11:18:46.218173Z",
     "start_time": "2021-03-03T11:18:46.215581Z"
    }
   },
   "outputs": [],
   "source": [
    "def pickleOut(obj, fname):\n",
    "    fout =  open(fname, 'wb')\n",
    "    pickle.dump(obj, fout)\n",
    "    fout.close()\n",
    "    print(f'object was successfully exported to {fname}')"
   ]
  },
  {
   "cell_type": "code",
   "execution_count": 13,
   "metadata": {
    "ExecuteTime": {
     "end_time": "2021-03-03T11:18:46.539490Z",
     "start_time": "2021-03-03T11:18:46.219303Z"
    }
   },
   "outputs": [],
   "source": [
    "def pickleIn(fname):\n",
    "    fIn =  open(fname, 'rb')\n",
    "    obj = pickle.load(fIn)\n",
    "    fIn.close()\n",
    "    print(f'object {fname} was successfully imported  ')\n",
    "    return obj"
   ]
  },
  {
   "cell_type": "markdown",
   "metadata": {},
   "source": [
    "# Todos "
   ]
  },
  {
   "cell_type": "raw",
   "metadata": {},
   "source": [
    "create fuzzmatch function\n",
    "results should be "
   ]
  },
  {
   "cell_type": "raw",
   "metadata": {},
   "source": [
    "create concat "
   ]
  },
  {
   "cell_type": "code",
   "execution_count": 14,
   "metadata": {},
   "outputs": [],
   "source": [
    "def fixStrTextNorm(dstr):\n",
    "    dstr = fix_text(dstr)\n",
    "    dstr = dstr.lower()\n",
    "    dstr = dstr.replace('|', '')\n",
    "    dstr = dstr.strip()\n",
    "    return dstr \n",
    "\n",
    "def dfObjColConverter(df, ltcols):\n",
    "    for col in ltcols:\n",
    "        if df[col].dtype == 'object':\n",
    "            df[col] = df[col].fillna('') \n",
    "            df[col]  =  df[col].astype('str').apply(fixStrTextNorm)\n",
    "    return df\n",
    "\n",
    "def compNameGenerator(df, ltcols, sep = '| ' ):    \n",
    "    return  df[ltcols].apply(lambda x: sep.join(x.dropna().astype(str).values), axis=1) \n",
    "\n",
    "def ngrams(string, n=3):\n",
    "    string = re.sub(r'[,-./|]',r'', string)\n",
    "    ngrams = zip(*[string[i:] for i in range(n)])\n",
    "    return [''.join(ngram) for ngram in ngrams]"
   ]
  },
  {
   "cell_type": "code",
   "execution_count": 126,
   "metadata": {},
   "outputs": [],
   "source": [
    "def dfMatchesTodDupID(df):\n",
    "    g = nx.from_pandas_edgelist(df, 'DatabaseData', 'QueryData')\n",
    "    ltconx = [{'compname': list(it)} for it in nx.connected_components(g)]\n",
    "    dfgroup = pd.DataFrame(ltconx)\n",
    "    dfgroup['groupID'] = dfgroup.index\n",
    "    dfduptracker = dfgroup.explode('compname')\n",
    "    return dfduptracker "
   ]
  },
  {
   "cell_type": "markdown",
   "metadata": {},
   "source": [
    "# Code"
   ]
  },
  {
   "cell_type": "code",
   "execution_count": 92,
   "metadata": {},
   "outputs": [],
   "source": [
    "ltColumnsToMatch  = ['first_name', 'mid_name', 'last_name']"
   ]
  },
  {
   "cell_type": "code",
   "execution_count": 123,
   "metadata": {},
   "outputs": [],
   "source": [
    "def fuzzMatch(ltColumnsToMatch):\n",
    "    df = pd.read_csv('upload.csv')\n",
    "    df =  dfObjColConverter(df, ltColumnsToMatch)\n",
    "    df['compname'] = compNameGenerator(df, ltColumnsToMatch)\n",
    "    dfdb =  df.compname.drop_duplicates()\n",
    "    vectorizer = TfidfVectorizer(min_df=1, analyzer=ngrams)\n",
    "    db_tf_idf_matrix = vectorizer.fit_transform(dfdb)\n",
    "    knn = NearestNeighbors(n_neighbors=10 , metric = 'cosine' )\n",
    "    knn.fit(db_tf_idf_matrix)\n",
    "    D, I = knn.kneighbors(db_tf_idf_matrix, 10)  \n",
    "\n",
    "    matches = []\n",
    "    for r,indVals in enumerate(I):\n",
    "        for c, dbloc in enumerate(indVals):\n",
    "            temp = [D[r][c], dfdb.iloc[dbloc], dfdb.iloc[r]]\n",
    "            matches.append(temp)\n",
    "\n",
    "    dfmatches = pd.DataFrame(matches, columns = ['Kdistance','DatabaseData','QueryData'])\\\n",
    "                .sort_values('Kdistance', ascending = True)\n",
    "    return dfmatches"
   ]
  },
  {
   "cell_type": "code",
   "execution_count": 124,
   "metadata": {},
   "outputs": [],
   "source": [
    "dfFuzzMatch = fuzzMatch(ltColumnsToMatch)"
   ]
  },
  {
   "cell_type": "raw",
   "metadata": {},
   "source": [
    "ltColumnsToMatch <- eto \n",
    "dfFuzzMatch, eto na yung papass sa context \n"
   ]
  },
  {
   "cell_type": "code",
   "execution_count": 120,
   "metadata": {},
   "outputs": [],
   "source": [
    "thold = 0.25"
   ]
  },
  {
   "cell_type": "code",
   "execution_count": 125,
   "metadata": {
    "collapsed": true
   },
   "outputs": [
    {
     "data": {
      "text/html": [
       "<div>\n",
       "<style scoped>\n",
       "    .dataframe tbody tr th:only-of-type {\n",
       "        vertical-align: middle;\n",
       "    }\n",
       "\n",
       "    .dataframe tbody tr th {\n",
       "        vertical-align: top;\n",
       "    }\n",
       "\n",
       "    .dataframe thead th {\n",
       "        text-align: right;\n",
       "    }\n",
       "</style>\n",
       "<table border=\"1\" class=\"dataframe\">\n",
       "  <thead>\n",
       "    <tr style=\"text-align: right;\">\n",
       "      <th></th>\n",
       "      <th>Kdistance</th>\n",
       "      <th>DatabaseData</th>\n",
       "      <th>QueryData</th>\n",
       "    </tr>\n",
       "  </thead>\n",
       "  <tbody>\n",
       "    <tr>\n",
       "      <th>31111</th>\n",
       "      <td>0.030607</td>\n",
       "      <td>maria carmen gladys| amante| pitogo</td>\n",
       "      <td>ma. carmen gladys| amante| pitogo</td>\n",
       "    </tr>\n",
       "    <tr>\n",
       "      <th>31101</th>\n",
       "      <td>0.030607</td>\n",
       "      <td>ma. carmen gladys| amante| pitogo</td>\n",
       "      <td>maria carmen gladys| amante| pitogo</td>\n",
       "    </tr>\n",
       "    <tr>\n",
       "      <th>42301</th>\n",
       "      <td>0.039898</td>\n",
       "      <td>ronaliza| abulencia| sablayan</td>\n",
       "      <td>monaliza| abulencia| sablayan</td>\n",
       "    </tr>\n",
       "    <tr>\n",
       "      <th>42311</th>\n",
       "      <td>0.039898</td>\n",
       "      <td>monaliza| abulencia| sablayan</td>\n",
       "      <td>ronaliza| abulencia| sablayan</td>\n",
       "    </tr>\n",
       "    <tr>\n",
       "      <th>561</th>\n",
       "      <td>0.053098</td>\n",
       "      <td>aida| palami| sandangan</td>\n",
       "      <td>h.aida| palami| sandangan</td>\n",
       "    </tr>\n",
       "    <tr>\n",
       "      <th>...</th>\n",
       "      <td>...</td>\n",
       "      <td>...</td>\n",
       "      <td>...</td>\n",
       "    </tr>\n",
       "    <tr>\n",
       "      <th>10231</th>\n",
       "      <td>0.249566</td>\n",
       "      <td>jolito| petalco| melloria</td>\n",
       "      <td>julieto| petalco| melloria</td>\n",
       "    </tr>\n",
       "    <tr>\n",
       "      <th>12061</th>\n",
       "      <td>0.249627</td>\n",
       "      <td>evangeline| dela cruz| cruz</td>\n",
       "      <td>evangeline| dela cruz| mendoza</td>\n",
       "    </tr>\n",
       "    <tr>\n",
       "      <th>12033</th>\n",
       "      <td>0.249627</td>\n",
       "      <td>evangeline| dela cruz| mendoza</td>\n",
       "      <td>evangeline| dela cruz| cruz</td>\n",
       "    </tr>\n",
       "    <tr>\n",
       "      <th>6481</th>\n",
       "      <td>0.249656</td>\n",
       "      <td>renato| dela cruz| dela cruz</td>\n",
       "      <td>renato| de villa| dela cruz</td>\n",
       "    </tr>\n",
       "    <tr>\n",
       "      <th>47804</th>\n",
       "      <td>0.249656</td>\n",
       "      <td>renato| de villa| dela cruz</td>\n",
       "      <td>renato| dela cruz| dela cruz</td>\n",
       "    </tr>\n",
       "  </tbody>\n",
       "</table>\n",
       "<p>675 rows × 3 columns</p>\n",
       "</div>"
      ],
      "text/plain": [
       "       Kdistance                         DatabaseData  \\\n",
       "31111   0.030607  maria carmen gladys| amante| pitogo   \n",
       "31101   0.030607    ma. carmen gladys| amante| pitogo   \n",
       "42301   0.039898        ronaliza| abulencia| sablayan   \n",
       "42311   0.039898        monaliza| abulencia| sablayan   \n",
       "561     0.053098              aida| palami| sandangan   \n",
       "...          ...                                  ...   \n",
       "10231   0.249566            jolito| petalco| melloria   \n",
       "12061   0.249627          evangeline| dela cruz| cruz   \n",
       "12033   0.249627       evangeline| dela cruz| mendoza   \n",
       "6481    0.249656         renato| dela cruz| dela cruz   \n",
       "47804   0.249656          renato| de villa| dela cruz   \n",
       "\n",
       "                                 QueryData  \n",
       "31111    ma. carmen gladys| amante| pitogo  \n",
       "31101  maria carmen gladys| amante| pitogo  \n",
       "42301        monaliza| abulencia| sablayan  \n",
       "42311        ronaliza| abulencia| sablayan  \n",
       "561              h.aida| palami| sandangan  \n",
       "...                                    ...  \n",
       "10231           julieto| petalco| melloria  \n",
       "12061       evangeline| dela cruz| mendoza  \n",
       "12033          evangeline| dela cruz| cruz  \n",
       "6481           renato| de villa| dela cruz  \n",
       "47804         renato| dela cruz| dela cruz  \n",
       "\n",
       "[675 rows x 3 columns]"
      ]
     },
     "execution_count": 125,
     "metadata": {},
     "output_type": "execute_result"
    }
   ],
   "source": [
    "dfFuzzMatch[(dfFuzzMatch['Kdistance'] < thold)  &  (dfFuzzMatch['Kdistance'] > 0.000000001)]"
   ]
  },
  {
   "cell_type": "markdown",
   "metadata": {},
   "source": [
    "#### Next nat tong sa baba "
   ]
  },
  {
   "cell_type": "code",
   "execution_count": 131,
   "metadata": {},
   "outputs": [],
   "source": [
    "0dftracker =  dfMatchesTodDupID(dfFuzzMatch[(dfFuzzMatch['Kdistance'] < thold)])"
   ]
  },
  {
   "cell_type": "code",
   "execution_count": 132,
   "metadata": {
    "collapsed": true
   },
   "outputs": [
    {
     "data": {
      "text/html": [
       "<div>\n",
       "<style scoped>\n",
       "    .dataframe tbody tr th:only-of-type {\n",
       "        vertical-align: middle;\n",
       "    }\n",
       "\n",
       "    .dataframe tbody tr th {\n",
       "        vertical-align: top;\n",
       "    }\n",
       "\n",
       "    .dataframe thead th {\n",
       "        text-align: right;\n",
       "    }\n",
       "</style>\n",
       "<table border=\"1\" class=\"dataframe\">\n",
       "  <thead>\n",
       "    <tr style=\"text-align: right;\">\n",
       "      <th></th>\n",
       "      <th>compname</th>\n",
       "      <th>groupID</th>\n",
       "    </tr>\n",
       "  </thead>\n",
       "  <tbody>\n",
       "    <tr>\n",
       "      <th>0</th>\n",
       "      <td>jocelyn| pascua| dela cruz</td>\n",
       "      <td>0</td>\n",
       "    </tr>\n",
       "    <tr>\n",
       "      <th>0</th>\n",
       "      <td>joselyn| pascua| dela cruz</td>\n",
       "      <td>0</td>\n",
       "    </tr>\n",
       "    <tr>\n",
       "      <th>0</th>\n",
       "      <td>jennelyn| pascua| dela cruz</td>\n",
       "      <td>0</td>\n",
       "    </tr>\n",
       "    <tr>\n",
       "      <th>1</th>\n",
       "      <td>taiba| dadih| asjah</td>\n",
       "      <td>1</td>\n",
       "    </tr>\n",
       "    <tr>\n",
       "      <th>2</th>\n",
       "      <td>tambai| kalim| sultan</td>\n",
       "      <td>2</td>\n",
       "    </tr>\n",
       "    <tr>\n",
       "      <th>...</th>\n",
       "      <td>...</td>\n",
       "      <td>...</td>\n",
       "    </tr>\n",
       "    <tr>\n",
       "      <th>5056</th>\n",
       "      <td>roland| mesiano| matilla</td>\n",
       "      <td>5056</td>\n",
       "    </tr>\n",
       "    <tr>\n",
       "      <th>5057</th>\n",
       "      <td>marites| de guzman| salvador</td>\n",
       "      <td>5057</td>\n",
       "    </tr>\n",
       "    <tr>\n",
       "      <th>5058</th>\n",
       "      <td>angelita| lapitag| jabalde</td>\n",
       "      <td>5058</td>\n",
       "    </tr>\n",
       "    <tr>\n",
       "      <th>5059</th>\n",
       "      <td>imelda| dela cruz| agustin</td>\n",
       "      <td>5059</td>\n",
       "    </tr>\n",
       "    <tr>\n",
       "      <th>5060</th>\n",
       "      <td>jocelyn| dizon| flores</td>\n",
       "      <td>5060</td>\n",
       "    </tr>\n",
       "  </tbody>\n",
       "</table>\n",
       "<p>5341 rows × 2 columns</p>\n",
       "</div>"
      ],
      "text/plain": [
       "                          compname  groupID\n",
       "0       jocelyn| pascua| dela cruz        0\n",
       "0       joselyn| pascua| dela cruz        0\n",
       "0      jennelyn| pascua| dela cruz        0\n",
       "1              taiba| dadih| asjah        1\n",
       "2            tambai| kalim| sultan        2\n",
       "...                            ...      ...\n",
       "5056      roland| mesiano| matilla     5056\n",
       "5057  marites| de guzman| salvador     5057\n",
       "5058    angelita| lapitag| jabalde     5058\n",
       "5059    imelda| dela cruz| agustin     5059\n",
       "5060        jocelyn| dizon| flores     5060\n",
       "\n",
       "[5341 rows x 2 columns]"
      ]
     },
     "execution_count": 132,
     "metadata": {},
     "output_type": "execute_result"
    }
   ],
   "source": [
    "dftracker"
   ]
  },
  {
   "cell_type": "code",
   "execution_count": 133,
   "metadata": {},
   "outputs": [],
   "source": [
    "df = pd.read_csv('upload.csv')\n",
    "df =  dfObjColConverter(df, ltColumnsToMatch)\n",
    "df['compname'] = compNameGenerator(df, ltColumnsToMatch)"
   ]
  },
  {
   "cell_type": "code",
   "execution_count": 137,
   "metadata": {},
   "outputs": [],
   "source": [
    "dfDups = dftracker.merge(df, on = 'compname', how = 'inner')"
   ]
  },
  {
   "cell_type": "code",
   "execution_count": 138,
   "metadata": {
    "collapsed": true
   },
   "outputs": [
    {
     "data": {
      "text/html": [
       "<div>\n",
       "<style scoped>\n",
       "    .dataframe tbody tr th:only-of-type {\n",
       "        vertical-align: middle;\n",
       "    }\n",
       "\n",
       "    .dataframe tbody tr th {\n",
       "        vertical-align: top;\n",
       "    }\n",
       "\n",
       "    .dataframe thead th {\n",
       "        text-align: right;\n",
       "    }\n",
       "</style>\n",
       "<table border=\"1\" class=\"dataframe\">\n",
       "  <thead>\n",
       "    <tr style=\"text-align: right;\">\n",
       "      <th></th>\n",
       "      <th>compname</th>\n",
       "      <th>groupID</th>\n",
       "      <th>No</th>\n",
       "      <th>hh_id</th>\n",
       "      <th>payroll_row_id</th>\n",
       "      <th>payroll_transaction_log_id</th>\n",
       "      <th>payroll_batch_id</th>\n",
       "      <th>hh_id.1</th>\n",
       "      <th>psgc_region</th>\n",
       "      <th>psgc_province</th>\n",
       "      <th>...</th>\n",
       "      <th>region_branch</th>\n",
       "      <th>date_claimed</th>\n",
       "      <th>claim_status</th>\n",
       "      <th>recon_remarks</th>\n",
       "      <th>rice_amount</th>\n",
       "      <th>date_inserted</th>\n",
       "      <th>time_stamp</th>\n",
       "      <th>adjustment_amount</th>\n",
       "      <th>gross_amount</th>\n",
       "      <th>net_amount</th>\n",
       "    </tr>\n",
       "  </thead>\n",
       "  <tbody>\n",
       "    <tr>\n",
       "      <th>0</th>\n",
       "      <td>jocelyn| pascua| dela cruz</td>\n",
       "      <td>0</td>\n",
       "      <td>20215</td>\n",
       "      <td>015502003-10333-00058</td>\n",
       "      <td>504529338.0</td>\n",
       "      <td>1.613471e+14</td>\n",
       "      <td>PP-37E01120120210201</td>\n",
       "      <td>015502003-10333-00058</td>\n",
       "      <td>3.0</td>\n",
       "      <td>10.0</td>\n",
       "      <td>...</td>\n",
       "      <td>NaN</td>\n",
       "      <td>NaN</td>\n",
       "      <td>0.0</td>\n",
       "      <td>1.0</td>\n",
       "      <td>600.0</td>\n",
       "      <td>2021-02-16</td>\n",
       "      <td>2021-03-15 15:02:40</td>\n",
       "      <td>0.0</td>\n",
       "      <td>0.0</td>\n",
       "      <td>0.0</td>\n",
       "    </tr>\n",
       "    <tr>\n",
       "      <th>1</th>\n",
       "      <td>jocelyn| pascua| dela cruz</td>\n",
       "      <td>0</td>\n",
       "      <td>20215</td>\n",
       "      <td>015502003-10333-00058</td>\n",
       "      <td>512811502.0</td>\n",
       "      <td>1.618843e+14</td>\n",
       "      <td>PP-37E01020321210400</td>\n",
       "      <td>015502003-10333-00058</td>\n",
       "      <td>3.0</td>\n",
       "      <td>10.0</td>\n",
       "      <td>...</td>\n",
       "      <td>NaN</td>\n",
       "      <td>NaN</td>\n",
       "      <td>0.0</td>\n",
       "      <td>1.0</td>\n",
       "      <td>600.0</td>\n",
       "      <td>2021-04-19</td>\n",
       "      <td>2021-05-31 13:38:09</td>\n",
       "      <td>0.0</td>\n",
       "      <td>0.0</td>\n",
       "      <td>0.0</td>\n",
       "    </tr>\n",
       "    <tr>\n",
       "      <th>2</th>\n",
       "      <td>jocelyn| pascua| dela cruz</td>\n",
       "      <td>0</td>\n",
       "      <td>20215</td>\n",
       "      <td>015502003-10333-00058</td>\n",
       "      <td>512815934.0</td>\n",
       "      <td>1.618843e+14</td>\n",
       "      <td>PP-37E01020321210400</td>\n",
       "      <td>015502003-10333-00058</td>\n",
       "      <td>3.0</td>\n",
       "      <td>10.0</td>\n",
       "      <td>...</td>\n",
       "      <td>NaN</td>\n",
       "      <td>NaN</td>\n",
       "      <td>0.0</td>\n",
       "      <td>1.0</td>\n",
       "      <td>600.0</td>\n",
       "      <td>2021-04-19</td>\n",
       "      <td>2021-05-31 13:38:09</td>\n",
       "      <td>0.0</td>\n",
       "      <td>0.0</td>\n",
       "      <td>0.0</td>\n",
       "    </tr>\n",
       "    <tr>\n",
       "      <th>3</th>\n",
       "      <td>jocelyn| pascua| dela cruz</td>\n",
       "      <td>0</td>\n",
       "      <td>20215</td>\n",
       "      <td>015502003-10333-00058</td>\n",
       "      <td>520813630.0</td>\n",
       "      <td>1.623769e+14</td>\n",
       "      <td>PP-37E01040521210600</td>\n",
       "      <td>015502003-10333-00058</td>\n",
       "      <td>3.0</td>\n",
       "      <td>10.0</td>\n",
       "      <td>...</td>\n",
       "      <td>NaN</td>\n",
       "      <td>NaN</td>\n",
       "      <td>0.0</td>\n",
       "      <td>1.0</td>\n",
       "      <td>600.0</td>\n",
       "      <td>2021-06-15</td>\n",
       "      <td>2021-09-12 14:10:44</td>\n",
       "      <td>0.0</td>\n",
       "      <td>0.0</td>\n",
       "      <td>0.0</td>\n",
       "    </tr>\n",
       "    <tr>\n",
       "      <th>4</th>\n",
       "      <td>jocelyn| pascua| dela cruz</td>\n",
       "      <td>0</td>\n",
       "      <td>20215</td>\n",
       "      <td>015502003-10333-00058</td>\n",
       "      <td>520818079.0</td>\n",
       "      <td>1.623769e+14</td>\n",
       "      <td>PP-37E01040521210600</td>\n",
       "      <td>015502003-10333-00058</td>\n",
       "      <td>3.0</td>\n",
       "      <td>10.0</td>\n",
       "      <td>...</td>\n",
       "      <td>NaN</td>\n",
       "      <td>NaN</td>\n",
       "      <td>0.0</td>\n",
       "      <td>1.0</td>\n",
       "      <td>600.0</td>\n",
       "      <td>2021-06-15</td>\n",
       "      <td>2021-09-12 14:10:44</td>\n",
       "      <td>0.0</td>\n",
       "      <td>0.0</td>\n",
       "      <td>0.0</td>\n",
       "    </tr>\n",
       "    <tr>\n",
       "      <th>...</th>\n",
       "      <td>...</td>\n",
       "      <td>...</td>\n",
       "      <td>...</td>\n",
       "      <td>...</td>\n",
       "      <td>...</td>\n",
       "      <td>...</td>\n",
       "      <td>...</td>\n",
       "      <td>...</td>\n",
       "      <td>...</td>\n",
       "      <td>...</td>\n",
       "      <td>...</td>\n",
       "      <td>...</td>\n",
       "      <td>...</td>\n",
       "      <td>...</td>\n",
       "      <td>...</td>\n",
       "      <td>...</td>\n",
       "      <td>...</td>\n",
       "      <td>...</td>\n",
       "      <td>...</td>\n",
       "      <td>...</td>\n",
       "      <td>...</td>\n",
       "    </tr>\n",
       "    <tr>\n",
       "      <th>355685</th>\n",
       "      <td>jocelyn| dizon| flores</td>\n",
       "      <td>5060</td>\n",
       "      <td>19955</td>\n",
       "      <td>064520012-4500-00058</td>\n",
       "      <td>326430932.0</td>\n",
       "      <td>1.508403e+14</td>\n",
       "      <td>PP-95A027080917171000</td>\n",
       "      <td>064520012-4500-00058</td>\n",
       "      <td>9.0</td>\n",
       "      <td>42.0</td>\n",
       "      <td>...</td>\n",
       "      <td>586.0</td>\n",
       "      <td>2017-12-01</td>\n",
       "      <td>3.0</td>\n",
       "      <td>6.0</td>\n",
       "      <td>600.0</td>\n",
       "      <td>2017-10-19</td>\n",
       "      <td>2020-05-29 14:13:23</td>\n",
       "      <td>0.0</td>\n",
       "      <td>0.0</td>\n",
       "      <td>0.0</td>\n",
       "    </tr>\n",
       "    <tr>\n",
       "      <th>355686</th>\n",
       "      <td>jocelyn| dizon| flores</td>\n",
       "      <td>5060</td>\n",
       "      <td>19955</td>\n",
       "      <td>064520012-4500-00058</td>\n",
       "      <td>326446989.0</td>\n",
       "      <td>1.508403e+14</td>\n",
       "      <td>PP-95A027080917171000</td>\n",
       "      <td>064520012-4500-00058</td>\n",
       "      <td>9.0</td>\n",
       "      <td>42.0</td>\n",
       "      <td>...</td>\n",
       "      <td>586.0</td>\n",
       "      <td>2017-12-01</td>\n",
       "      <td>3.0</td>\n",
       "      <td>6.0</td>\n",
       "      <td>600.0</td>\n",
       "      <td>2017-10-19</td>\n",
       "      <td>2020-05-29 14:13:23</td>\n",
       "      <td>0.0</td>\n",
       "      <td>0.0</td>\n",
       "      <td>0.0</td>\n",
       "    </tr>\n",
       "    <tr>\n",
       "      <th>355687</th>\n",
       "      <td>jocelyn| dizon| flores</td>\n",
       "      <td>5060</td>\n",
       "      <td>19955</td>\n",
       "      <td>064520012-4500-00058</td>\n",
       "      <td>334490247.0</td>\n",
       "      <td>1.513696e+14</td>\n",
       "      <td>PP-95A027101117171200</td>\n",
       "      <td>064520012-4500-00058</td>\n",
       "      <td>9.0</td>\n",
       "      <td>42.0</td>\n",
       "      <td>...</td>\n",
       "      <td>NaN</td>\n",
       "      <td>NaN</td>\n",
       "      <td>0.0</td>\n",
       "      <td>1.0</td>\n",
       "      <td>600.0</td>\n",
       "      <td>2017-12-19</td>\n",
       "      <td>2018-01-11 14:22:15</td>\n",
       "      <td>0.0</td>\n",
       "      <td>0.0</td>\n",
       "      <td>0.0</td>\n",
       "    </tr>\n",
       "    <tr>\n",
       "      <th>355688</th>\n",
       "      <td>jocelyn| dizon| flores</td>\n",
       "      <td>5060</td>\n",
       "      <td>19955</td>\n",
       "      <td>064520012-4500-00058</td>\n",
       "      <td>334506331.0</td>\n",
       "      <td>1.513696e+14</td>\n",
       "      <td>PP-95A027101117171200</td>\n",
       "      <td>064520012-4500-00058</td>\n",
       "      <td>9.0</td>\n",
       "      <td>42.0</td>\n",
       "      <td>...</td>\n",
       "      <td>NaN</td>\n",
       "      <td>NaN</td>\n",
       "      <td>0.0</td>\n",
       "      <td>1.0</td>\n",
       "      <td>600.0</td>\n",
       "      <td>2017-12-19</td>\n",
       "      <td>2018-01-11 14:22:15</td>\n",
       "      <td>0.0</td>\n",
       "      <td>0.0</td>\n",
       "      <td>0.0</td>\n",
       "    </tr>\n",
       "    <tr>\n",
       "      <th>355689</th>\n",
       "      <td>jocelyn| dizon| flores</td>\n",
       "      <td>5060</td>\n",
       "      <td>19955</td>\n",
       "      <td>064520012-4500-00058</td>\n",
       "      <td>342555530.0</td>\n",
       "      <td>1.519132e+14</td>\n",
       "      <td>PP-95A027120117180200</td>\n",
       "      <td>064520012-4500-00058</td>\n",
       "      <td>9.0</td>\n",
       "      <td>42.0</td>\n",
       "      <td>...</td>\n",
       "      <td>NaN</td>\n",
       "      <td>NaN</td>\n",
       "      <td>0.0</td>\n",
       "      <td>1.0</td>\n",
       "      <td>600.0</td>\n",
       "      <td>2018-02-20</td>\n",
       "      <td>2018-02-21 17:01:34</td>\n",
       "      <td>0.0</td>\n",
       "      <td>0.0</td>\n",
       "      <td>0.0</td>\n",
       "    </tr>\n",
       "  </tbody>\n",
       "</table>\n",
       "<p>355690 rows × 41 columns</p>\n",
       "</div>"
      ],
      "text/plain": [
       "                          compname  groupID     No                  hh_id  \\\n",
       "0       jocelyn| pascua| dela cruz        0  20215  015502003-10333-00058   \n",
       "1       jocelyn| pascua| dela cruz        0  20215  015502003-10333-00058   \n",
       "2       jocelyn| pascua| dela cruz        0  20215  015502003-10333-00058   \n",
       "3       jocelyn| pascua| dela cruz        0  20215  015502003-10333-00058   \n",
       "4       jocelyn| pascua| dela cruz        0  20215  015502003-10333-00058   \n",
       "...                            ...      ...    ...                    ...   \n",
       "355685      jocelyn| dizon| flores     5060  19955   064520012-4500-00058   \n",
       "355686      jocelyn| dizon| flores     5060  19955   064520012-4500-00058   \n",
       "355687      jocelyn| dizon| flores     5060  19955   064520012-4500-00058   \n",
       "355688      jocelyn| dizon| flores     5060  19955   064520012-4500-00058   \n",
       "355689      jocelyn| dizon| flores     5060  19955   064520012-4500-00058   \n",
       "\n",
       "        payroll_row_id  payroll_transaction_log_id       payroll_batch_id  \\\n",
       "0          504529338.0                1.613471e+14   PP-37E01120120210201   \n",
       "1          512811502.0                1.618843e+14   PP-37E01020321210400   \n",
       "2          512815934.0                1.618843e+14   PP-37E01020321210400   \n",
       "3          520813630.0                1.623769e+14   PP-37E01040521210600   \n",
       "4          520818079.0                1.623769e+14   PP-37E01040521210600   \n",
       "...                ...                         ...                    ...   \n",
       "355685     326430932.0                1.508403e+14  PP-95A027080917171000   \n",
       "355686     326446989.0                1.508403e+14  PP-95A027080917171000   \n",
       "355687     334490247.0                1.513696e+14  PP-95A027101117171200   \n",
       "355688     334506331.0                1.513696e+14  PP-95A027101117171200   \n",
       "355689     342555530.0                1.519132e+14  PP-95A027120117180200   \n",
       "\n",
       "                      hh_id.1  psgc_region  psgc_province  ...  region_branch  \\\n",
       "0       015502003-10333-00058          3.0           10.0  ...            NaN   \n",
       "1       015502003-10333-00058          3.0           10.0  ...            NaN   \n",
       "2       015502003-10333-00058          3.0           10.0  ...            NaN   \n",
       "3       015502003-10333-00058          3.0           10.0  ...            NaN   \n",
       "4       015502003-10333-00058          3.0           10.0  ...            NaN   \n",
       "...                       ...          ...            ...  ...            ...   \n",
       "355685   064520012-4500-00058          9.0           42.0  ...          586.0   \n",
       "355686   064520012-4500-00058          9.0           42.0  ...          586.0   \n",
       "355687   064520012-4500-00058          9.0           42.0  ...            NaN   \n",
       "355688   064520012-4500-00058          9.0           42.0  ...            NaN   \n",
       "355689   064520012-4500-00058          9.0           42.0  ...            NaN   \n",
       "\n",
       "        date_claimed  claim_status recon_remarks  rice_amount date_inserted  \\\n",
       "0                NaN           0.0           1.0        600.0    2021-02-16   \n",
       "1                NaN           0.0           1.0        600.0    2021-04-19   \n",
       "2                NaN           0.0           1.0        600.0    2021-04-19   \n",
       "3                NaN           0.0           1.0        600.0    2021-06-15   \n",
       "4                NaN           0.0           1.0        600.0    2021-06-15   \n",
       "...              ...           ...           ...          ...           ...   \n",
       "355685    2017-12-01           3.0           6.0        600.0    2017-10-19   \n",
       "355686    2017-12-01           3.0           6.0        600.0    2017-10-19   \n",
       "355687           NaN           0.0           1.0        600.0    2017-12-19   \n",
       "355688           NaN           0.0           1.0        600.0    2017-12-19   \n",
       "355689           NaN           0.0           1.0        600.0    2018-02-20   \n",
       "\n",
       "                 time_stamp adjustment_amount  gross_amount  net_amount  \n",
       "0       2021-03-15 15:02:40               0.0           0.0         0.0  \n",
       "1       2021-05-31 13:38:09               0.0           0.0         0.0  \n",
       "2       2021-05-31 13:38:09               0.0           0.0         0.0  \n",
       "3       2021-09-12 14:10:44               0.0           0.0         0.0  \n",
       "4       2021-09-12 14:10:44               0.0           0.0         0.0  \n",
       "...                     ...               ...           ...         ...  \n",
       "355685  2020-05-29 14:13:23               0.0           0.0         0.0  \n",
       "355686  2020-05-29 14:13:23               0.0           0.0         0.0  \n",
       "355687  2018-01-11 14:22:15               0.0           0.0         0.0  \n",
       "355688  2018-01-11 14:22:15               0.0           0.0         0.0  \n",
       "355689  2018-02-21 17:01:34               0.0           0.0         0.0  \n",
       "\n",
       "[355690 rows x 41 columns]"
      ]
     },
     "execution_count": 138,
     "metadata": {},
     "output_type": "execute_result"
    }
   ],
   "source": [
    "dfDups"
   ]
  },
  {
   "cell_type": "markdown",
   "metadata": {},
   "source": [
    "# Test "
   ]
  },
  {
   "cell_type": "code",
   "execution_count": null,
   "metadata": {},
   "outputs": [],
   "source": []
  },
  {
   "cell_type": "code",
   "execution_count": null,
   "metadata": {},
   "outputs": [],
   "source": []
  },
  {
   "cell_type": "code",
   "execution_count": null,
   "metadata": {},
   "outputs": [],
   "source": []
  },
  {
   "cell_type": "code",
   "execution_count": null,
   "metadata": {},
   "outputs": [],
   "source": []
  },
  {
   "cell_type": "markdown",
   "metadata": {},
   "source": [
    "# "
   ]
  },
  {
   "cell_type": "code",
   "execution_count": null,
   "metadata": {},
   "outputs": [],
   "source": []
  },
  {
   "cell_type": "code",
   "execution_count": null,
   "metadata": {},
   "outputs": [],
   "source": []
  },
  {
   "cell_type": "code",
   "execution_count": null,
   "metadata": {},
   "outputs": [],
   "source": []
  },
  {
   "cell_type": "code",
   "execution_count": null,
   "metadata": {},
   "outputs": [],
   "source": []
  },
  {
   "cell_type": "markdown",
   "metadata": {},
   "source": [
    "# "
   ]
  },
  {
   "cell_type": "code",
   "execution_count": null,
   "metadata": {},
   "outputs": [],
   "source": []
  },
  {
   "cell_type": "code",
   "execution_count": null,
   "metadata": {},
   "outputs": [],
   "source": []
  },
  {
   "cell_type": "code",
   "execution_count": null,
   "metadata": {},
   "outputs": [],
   "source": []
  }
 ],
 "metadata": {
  "kernelspec": {
   "display_name": "Python 3",
   "language": "python",
   "name": "python3"
  },
  "language_info": {
   "codemirror_mode": {
    "name": "ipython",
    "version": 3
   },
   "file_extension": ".py",
   "mimetype": "text/x-python",
   "name": "python",
   "nbconvert_exporter": "python",
   "pygments_lexer": "ipython3",
   "version": "3.8.8"
  },
  "toc": {
   "base_numbering": 1,
   "nav_menu": {},
   "number_sections": true,
   "sideBar": true,
   "skip_h1_title": false,
   "title_cell": "Table of Contents",
   "title_sidebar": "Contents",
   "toc_cell": false,
   "toc_position": {
    "height": "48.3667px",
    "left": "1200px",
    "top": "205.533px",
    "width": "212px"
   },
   "toc_section_display": true,
   "toc_window_display": true
  }
 },
 "nbformat": 4,
 "nbformat_minor": 4
}
